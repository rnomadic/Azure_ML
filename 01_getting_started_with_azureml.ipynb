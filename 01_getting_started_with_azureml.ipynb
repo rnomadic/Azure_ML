{
 "cells": [
  {
   "cell_type": "markdown",
   "metadata": {},
   "source": [
    "# Check the Azure ML SDK Version"
   ]
  },
  {
   "cell_type": "code",
   "execution_count": 2,
   "metadata": {},
   "outputs": [
    {
     "name": "stdout",
     "output_type": "stream",
     "text": [
      "Ready to use Azure ML 1.6.0\n"
     ]
    }
   ],
   "source": [
    "import azureml.core\n",
    "print(\"Ready to use Azure ML\", azureml.core.VERSION)"
   ]
  },
  {
   "cell_type": "markdown",
   "metadata": {},
   "source": [
    "# Connect to Your Workspace\n",
    "The code below uses the configuration file to connect to your workspace. The first time you run it in a notebook session, you'll be prompted to sign into Azure by clicking the https://microsoft.com/devicelogin link, entering an automatically generated code, and signing into Azure. After you have successfully signed in, you can close the browser tab that was opened and return to this notebook.\n",
    "\n",
    "After you successfully logged in you could see the below message.\n",
    "\n",
    "\"You have signed in to the Microsoft Azure Cross-platform Command Line Interface application on your device. You may now close this window.\""
   ]
  },
  {
   "cell_type": "code",
   "execution_count": 3,
   "metadata": {},
   "outputs": [
    {
     "name": "stdout",
     "output_type": "stream",
     "text": [
      "dp101-workspace loaded\n"
     ]
    }
   ],
   "source": [
    "from azureml.core import Workspace\n",
    "\n",
    "ws = Workspace.from_config()\n",
    "print(ws.name, \"loaded\")\n"
   ]
  },
  {
   "cell_type": "markdown",
   "metadata": {},
   "source": [
    "# Run an Experiment\n",
    "In this exercise, you'll learn how to use an Azure ML experiment to run Python code and record values extracted from data.\n",
    "The code uses an Azure ML experiment to log details of the run."
   ]
  },
  {
   "cell_type": "code",
   "execution_count": 4,
   "metadata": {},
   "outputs": [
    {
     "name": "stdout",
     "output_type": "stream",
     "text": [
      "Starting experiment: diabetes-experiment\n",
      "Analyzing 10000 rows of data\n"
     ]
    }
   ],
   "source": [
    "from azureml.core import Experiment\n",
    "import pandas as pd\n",
    "import matplotlib.pyplot as plt\n",
    "%matplotlib inline \n",
    "\n",
    "# Create an Azure ML experiment in your workspace\n",
    "experiment = Experiment(workspace = ws, name = \"diabetes-experiment\")\n",
    "\n",
    "\n",
    "# Start logging data from the experiment\n",
    "run = experiment.start_logging()\n",
    "#run = experiment.start_logging(outputs=None, snapshot_directory=\".\")\n",
    "print(\"Starting experiment:\", experiment.name)\n",
    "\n",
    "# load the data from a local file\n",
    "data = pd.read_csv('../mslearn-aml-labs/data/diabetes.csv')\n",
    "\n",
    "# Count the rows and log the result\n",
    "row_count = (len(data))\n",
    "run.log('observations', row_count)\n",
    "print('Analyzing {} rows of data'.format(row_count))\n",
    "\n"
   ]
  },
  {
   "cell_type": "code",
   "execution_count": 5,
   "metadata": {},
   "outputs": [
    {
     "data": {
      "image/png": "[encoded data removed]",
      "text/plain": [
       "<Figure size 432x432 with 1 Axes>"
      ]
     },
     "metadata": {
      "needs_background": "light"
     },
     "output_type": "display_data"
    }
   ],
   "source": [
    "# Plot and log the count of diabetic vs non-diabetic patients\n",
    "diabetic_counts = data['Diabetic'].value_counts()\n",
    "fig = plt.figure(figsize=(6,6))\n",
    "ax = fig.gca()    \n",
    "diabetic_counts.plot.bar(ax = ax) \n",
    "ax.set_title('Patients with Diabetes') \n",
    "ax.set_xlabel('Diagnosis') \n",
    "ax.set_ylabel('Patients')\n",
    "plt.show()\n",
    "run.log_image(name = 'label distribution', plot = fig)"
   ]
  },
  {
   "cell_type": "code",
   "execution_count": 6,
   "metadata": {},
   "outputs": [],
   "source": [
    "# log distinct pregnancy counts\n",
    "pregnancies = data.Pregnancies.unique()\n",
    "run.log_list('pregnancy categories', pregnancies)"
   ]
  },
  {
   "cell_type": "code",
   "execution_count": 7,
   "metadata": {},
   "outputs": [],
   "source": [
    "# Log summary statistics for numeric columns\n",
    "med_columns = ['PlasmaGlucose', 'DiastolicBloodPressure', 'TricepsThickness', 'SerumInsulin', 'BMI']\n",
    "summary_stats = data[med_columns].describe().to_dict()\n",
    "for col in summary_stats:\n",
    "    keys = list(summary_stats[col].keys())\n",
    "    values = list(summary_stats[col].values())\n",
    "    for index in range(len(keys)):\n",
    "        run.log_row(col, stat = keys[index], value = values[index])\n",
    "        \n",
    "        \n",
    "# Save a sample of the data and upload it to the experiment output\n",
    "data.sample(100).to_csv('sample.csv', index=False, header=True)\n",
    "run.upload_file(name = 'outputs/sample.csv', path_or_stream = './sample.csv')\n",
    "\n",
    "# Complete the run\n",
    "run.complete()"
   ]
  },
  {
   "cell_type": "markdown",
   "metadata": {},
   "source": [
    "# View Experiment Results\n",
    "After the experiment has been finished, you can use the run object to get information about the run and its outputs:"
   ]
  },
  {
   "cell_type": "code",
   "execution_count": 8,
   "metadata": {},
   "outputs": [
    {
     "name": "stdout",
     "output_type": "stream",
     "text": [
      "{'runId': '86f9934e-3d11-4aad-ae3f-5b3f9bd1291d', 'target': 'sdk', 'status': 'Completed', 'startTimeUtc': '2020-06-02T06:18:54.048334Z', 'endTimeUtc': '2020-06-02T06:19:13.427863Z', 'properties': {'ContentSnapshotId': '0d778e50-e3f9-4ab7-9dd2-631aec769912'}, 'inputDatasets': [], 'logFiles': {}}\n",
      "{\n",
      "  \"observations\": 10000,\n",
      "  \"label distribution\": \"aml://artifactId/ExperimentRun/dcid.86f9934e-3d11-4aad-ae3f-5b3f9bd1291d/label distribution_1591078742.png\",\n",
      "  \"pregnancy categories\": [\n",
      "    0,\n",
      "    8,\n",
      "    7,\n",
      "    9,\n",
      "    1,\n",
      "    3,\n",
      "    5,\n",
      "    2,\n",
      "    6,\n",
      "    11,\n",
      "    4,\n",
      "    13,\n",
      "    10,\n",
      "    12,\n",
      "    14\n",
      "  ],\n",
      "  \"PlasmaGlucose\": {\n",
      "    \"stat\": [\n",
      "      \"count\",\n",
      "      \"mean\",\n",
      "      \"std\",\n",
      "      \"min\",\n",
      "      \"25%\",\n",
      "      \"50%\",\n",
      "      \"75%\",\n",
      "      \"max\"\n",
      "    ],\n",
      "    \"value\": [\n",
      "      10000.0,\n",
      "      107.8502,\n",
      "      31.920909360565563,\n",
      "      44,\n",
      "      84,\n",
      "      105,\n",
      "      129,\n",
      "      192\n",
      "    ]\n",
      "  },\n",
      "  \"DiastolicBloodPressure\": {\n",
      "    \"stat\": [\n",
      "      \"count\",\n",
      "      \"mean\",\n",
      "      \"std\",\n",
      "      \"min\",\n",
      "      \"25%\",\n",
      "      \"50%\",\n",
      "      \"75%\",\n",
      "      \"max\"\n",
      "    ],\n",
      "    \"value\": [\n",
      "      10000.0,\n",
      "      71.2075,\n",
      "      16.801478289640706,\n",
      "      24,\n",
      "      58,\n",
      "      72,\n",
      "      85,\n",
      "      117\n",
      "    ]\n",
      "  },\n",
      "  \"TricepsThickness\": {\n",
      "    \"stat\": [\n",
      "      \"count\",\n",
      "      \"mean\",\n",
      "      \"std\",\n",
      "      \"min\",\n",
      "      \"25%\",\n",
      "      \"50%\",\n",
      "      \"75%\",\n",
      "      \"max\"\n",
      "    ],\n",
      "    \"value\": [\n",
      "      10000.0,\n",
      "      28.8176,\n",
      "      14.506480415228332,\n",
      "      7,\n",
      "      15,\n",
      "      31,\n",
      "      41,\n",
      "      92\n",
      "    ]\n",
      "  },\n",
      "  \"SerumInsulin\": {\n",
      "    \"stat\": [\n",
      "      \"count\",\n",
      "      \"mean\",\n",
      "      \"std\",\n",
      "      \"min\",\n",
      "      \"25%\",\n",
      "      \"50%\",\n",
      "      \"75%\",\n",
      "      \"max\"\n",
      "    ],\n",
      "    \"value\": [\n",
      "      10000.0,\n",
      "      139.2436,\n",
      "      133.77791937465278,\n",
      "      14,\n",
      "      39,\n",
      "      85,\n",
      "      197,\n",
      "      796\n",
      "    ]\n",
      "  },\n",
      "  \"BMI\": {\n",
      "    \"stat\": [\n",
      "      \"count\",\n",
      "      \"mean\",\n",
      "      \"std\",\n",
      "      \"min\",\n",
      "      \"25%\",\n",
      "      \"50%\",\n",
      "      \"75%\",\n",
      "      \"max\"\n",
      "    ],\n",
      "    \"value\": [\n",
      "      10000.0,\n",
      "      31.56702174359113,\n",
      "      9.804365693559113,\n",
      "      18.20080735,\n",
      "      21.247426835,\n",
      "      31.922420785,\n",
      "      39.3289214475,\n",
      "      56.03462763\n",
      "    ]\n",
      "  }\n",
      "}\n",
      "[\n",
      "  \"label distribution_1591078742.png\",\n",
      "  \"outputs/sample.csv\"\n",
      "]\n"
     ]
    }
   ],
   "source": [
    "import json\n",
    "\n",
    "# Get run details\n",
    "details = run.get_details()\n",
    "print(details)\n",
    "\n",
    "# Get logged metrics\n",
    "metrics = run.get_metrics()\n",
    "print(json.dumps(metrics, indent=2))\n",
    "\n",
    "# Get output files\n",
    "files = run.get_file_names()\n",
    "print(json.dumps(files, indent=2))"
   ]
  },
  {
   "cell_type": "markdown",
   "metadata": {},
   "source": [
    "# RunDetails widget \n",
    "to get a better visualization of the run details,"
   ]
  },
  {
   "cell_type": "code",
   "execution_count": 9,
   "metadata": {},
   "outputs": [
    {
     "data": {
      "application/vnd.jupyter.widget-view+json": {
       "model_id": "1b2d91963f6847afbad10db75a27df45",
       "version_major": 2,
       "version_minor": 0
      },
      "text/plain": [
       "_UserRunWidget(widget_settings={'childWidgetDisplay': 'popup', 'send_telemetry': False, 'log_level': 'INFO', '…"
      ]
     },
     "metadata": {},
     "output_type": "display_data"
    },
    {
     "data": {
      "application/aml.mini.widget.v1": "{\"status\": \"Completed\", \"workbench_run_details_uri\": \"https://ml.azure.com/experiments/diabetes-experiment/runs/86f9934e-3d11-4aad-ae3f-5b3f9bd1291d?wsid=/subscriptions/661de708-75b1-41ed-806d-85f9bef3c27d/resourcegroups/dp101-resources/workspaces/dp101-workspace\", \"run_id\": \"86f9934e-3d11-4aad-ae3f-5b3f9bd1291d\", \"run_properties\": {\"run_id\": \"86f9934e-3d11-4aad-ae3f-5b3f9bd1291d\", \"created_utc\": \"2020-06-02T06:18:53.37162Z\", \"properties\": {\"ContentSnapshotId\": \"0d778e50-e3f9-4ab7-9dd2-631aec769912\"}, \"tags\": {}, \"end_time_utc\": \"2020-06-02T06:19:13.427863Z\", \"status\": \"Completed\", \"log_files\": {}, \"log_groups\": [], \"run_duration\": \"0:00:20\"}, \"child_runs\": [], \"children_metrics\": {}, \"run_metrics\": [{\"name\": \"observations\", \"run_id\": \"86f9934e-3d11-4aad-ae3f-5b3f9bd1291d\", \"categories\": [0], \"series\": [{\"data\": [10000]}]}, {\"name\": \"label distribution\", \"run_id\": \"86f9934e-3d11-4aad-ae3f-5b3f9bd1291d\", \"categories\": [0], \"series\": [{\"data\": [\"aml://artifactId/ExperimentRun/dcid.86f9934e-3d11-4aad-ae3f-5b3f9bd1291d/label distribution_1591078742.png\"]}]}, {\"name\": \"pregnancy categories\", \"run_id\": \"86f9934e-3d11-4aad-ae3f-5b3f9bd1291d\", \"categories\": [0, 1, 2, 3, 4, 5, 6, 7, 8, 9, 10, 11, 12, 13, 14], \"series\": [{\"data\": [0, 8, 7, 9, 1, 3, 5, 2, 6, 11, 4, 13, 10, 12, 14]}]}, {\"name\": \"PlasmaGlucose\", \"run_id\": \"86f9934e-3d11-4aad-ae3f-5b3f9bd1291d\", \"categories\": [0], \"series\": [{\"data\": [{\"stat\": [\"count\", \"mean\", \"std\", \"min\", \"25%\", \"50%\", \"75%\", \"max\"], \"value\": [10000.0, 107.8502, 31.920909360565563, 44.0, 84.0, 105.0, 129.0, 192.0]}]}]}, {\"name\": \"DiastolicBloodPressure\", \"run_id\": \"86f9934e-3d11-4aad-ae3f-5b3f9bd1291d\", \"categories\": [0], \"series\": [{\"data\": [{\"stat\": [\"count\", \"25%\", \"50%\", \"std\", \"mean\", \"min\", \"max\", \"75%\"], \"value\": [10000.0, 58.0, 72.0, 16.801478289640706, 71.2075, 24.0, 117.0, 85.0]}]}]}, {\"name\": \"TricepsThickness\", \"run_id\": \"86f9934e-3d11-4aad-ae3f-5b3f9bd1291d\", \"categories\": [0], \"series\": [{\"data\": [{\"stat\": [\"min\", \"25%\", \"max\", \"50%\", \"mean\", \"std\", \"75%\", \"count\"], \"value\": [7.0, 15.0, 92.0, 31.0, 28.8176, 14.506480415228332, 41.0, 10000.0]}]}]}, {\"name\": \"SerumInsulin\", \"run_id\": \"86f9934e-3d11-4aad-ae3f-5b3f9bd1291d\", \"categories\": [0], \"series\": [{\"data\": [{\"stat\": [\"count\", \"mean\", \"min\", \"std\", \"75%\", \"25%\", \"50%\", \"max\"], \"value\": [10000.0, 139.2436, 14.0, 133.77791937465278, 197.0, 39.0, 85.0, 796.0]}]}]}, {\"name\": \"BMI\", \"run_id\": \"86f9934e-3d11-4aad-ae3f-5b3f9bd1291d\", \"categories\": [0], \"series\": [{\"data\": [{\"stat\": [\"min\", \"std\", \"25%\", \"50%\", \"75%\", \"max\", \"mean\", \"count\"], \"value\": [18.20080735, 9.804365693559113, 21.247426835, 31.922420785, 39.3289214475, 56.03462763, 31.56702174359113, 10000.0]}]}]}], \"run_logs\": \"\\nRun is completed.\", \"graph\": {}, \"widget_settings\": {\"childWidgetDisplay\": \"popup\", \"send_telemetry\": false, \"log_level\": \"INFO\", \"sdk_version\": \"1.6.0\"}, \"loading\": false}"
     },
     "metadata": {},
     "output_type": "display_data"
    }
   ],
   "source": [
    "from azureml.widgets import RunDetails\n",
    "\n",
    "RunDetails(run).show()"
   ]
  },
  {
   "cell_type": "code",
   "execution_count": null,
   "metadata": {},
   "outputs": [],
   "source": []
  }
 ],
 "metadata": {
  "kernel_info": {
   "name": "python3-azureml"
  },
  "kernelspec": {
   "display_name": "Python 3.6 - AzureML",
   "language": "python",
   "name": "python3-azureml"
  },
  "language_info": {
   "codemirror_mode": {
    "name": "ipython",
    "version": 3
   },
   "file_extension": ".py",
   "mimetype": "text/x-python",
   "name": "python",
   "nbconvert_exporter": "python",
   "pygments_lexer": "ipython3",
   "version": "3.6.9"
  },
  "nteract": {
   "version": "nteract-front-end@1.0.0"
  }
 },
 "nbformat": 4,
 "nbformat_minor": 2
}
